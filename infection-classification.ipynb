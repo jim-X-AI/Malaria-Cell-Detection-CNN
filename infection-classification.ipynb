{
 "cells": [
  {
   "cell_type": "code",
   "execution_count": 1,
   "id": "1556e619-d568-4a4b-956c-5cf3a84b6d1e",
   "metadata": {
    "execution": {
     "iopub.execute_input": "2025-07-30T11:37:44.066095Z",
     "iopub.status.busy": "2025-07-30T11:37:44.065742Z",
     "iopub.status.idle": "2025-07-30T11:38:05.343947Z",
     "shell.execute_reply": "2025-07-30T11:38:05.343261Z",
     "shell.execute_reply.started": "2025-07-30T11:37:44.066077Z"
    }
   },
   "outputs": [
    {
     "name": "stderr",
     "output_type": "stream",
     "text": [
      "2025-07-30 11:37:47.614805: E external/local_xla/xla/stream_executor/cuda/cuda_fft.cc:477] Unable to register cuFFT factory: Attempting to register factory for plugin cuFFT when one has already been registered\n",
      "WARNING: All log messages before absl::InitializeLog() is called are written to STDERR\n",
      "E0000 00:00:1753875468.018090      36 cuda_dnn.cc:8310] Unable to register cuDNN factory: Attempting to register factory for plugin cuDNN when one has already been registered\n",
      "E0000 00:00:1753875468.126238      36 cuda_blas.cc:1418] Unable to register cuBLAS factory: Attempting to register factory for plugin cuBLAS when one has already been registered\n"
     ]
    }
   ],
   "source": [
    "import numpy as np\n",
    "import matplotlib.pyplot as plt\n",
    "import cv2\n",
    "from tensorflow.keras.models import Sequential\n",
    "from tensorflow.keras.layers import Input, Dense, Conv2D, Flatten, MaxPooling2D\n",
    "from tensorflow.keras.callbacks import EarlyStopping\n",
    "import os\n",
    "from sklearn.model_selection import train_test_split"
   ]
  },
  {
   "cell_type": "code",
   "execution_count": 2,
   "id": "7e55687b-80f5-4db1-9c20-70098ac4beed",
   "metadata": {
    "execution": {
     "iopub.execute_input": "2025-07-30T11:38:05.346200Z",
     "iopub.status.busy": "2025-07-30T11:38:05.345589Z",
     "iopub.status.idle": "2025-07-30T11:38:05.349515Z",
     "shell.execute_reply": "2025-07-30T11:38:05.348752Z",
     "shell.execute_reply.started": "2025-07-30T11:38:05.346179Z"
    }
   },
   "outputs": [],
   "source": [
    "uninfected = r\"../input/cell-images/cell_images/Uninfected\"\n",
    "infected = r\"../input/cell-images/cell_images/Parasitized\""
   ]
  },
  {
   "cell_type": "code",
   "execution_count": 3,
   "id": "202ecdc2-ea22-4512-9ef3-22addaf918ca",
   "metadata": {
    "execution": {
     "iopub.execute_input": "2025-07-30T11:38:05.350608Z",
     "iopub.status.busy": "2025-07-30T11:38:05.350354Z",
     "iopub.status.idle": "2025-07-30T11:39:54.666916Z",
     "shell.execute_reply": "2025-07-30T11:39:54.666255Z",
     "shell.execute_reply.started": "2025-07-30T11:38:05.350589Z"
    }
   },
   "outputs": [],
   "source": [
    "x = []\n",
    "y = []\n",
    "\n",
    "for filename in os.listdir(infected):\n",
    "    try:\n",
    "        img = cv2.imread(f'{infected}/{filename}')\n",
    "        img = cv2.resize(img, (60, 60))\n",
    "        img = img / 255\n",
    "        x.append(img)\n",
    "        y.append(1)\n",
    "    except Exception as e:\n",
    "        print(f'Error loading file {filename}: {e}')"
   ]
  },
  {
   "cell_type": "code",
   "execution_count": 4,
   "id": "a7cd3e2a-7b60-4a19-a5d3-db67ebefb247",
   "metadata": {
    "execution": {
     "iopub.execute_input": "2025-07-30T11:39:54.667934Z",
     "iopub.status.busy": "2025-07-30T11:39:54.667689Z",
     "iopub.status.idle": "2025-07-30T11:41:38.909242Z",
     "shell.execute_reply": "2025-07-30T11:41:38.908590Z",
     "shell.execute_reply.started": "2025-07-30T11:39:54.667907Z"
    }
   },
   "outputs": [],
   "source": [
    "for filename in os.listdir(uninfected):\n",
    "    try:\n",
    "        img = cv2.imread(f'{uninfected}/{filename}')\n",
    "        img = cv2.resize(img, (60, 60))\n",
    "        img = img / 255\n",
    "        x.append(img)\n",
    "        y.append(0)\n",
    "    except Exception as e:\n",
    "        print(f'Error loading file {filename}: {e}')"
   ]
  },
  {
   "cell_type": "code",
   "execution_count": 5,
   "id": "5e55e07c-ded8-4aca-a6d0-d5f27dbfc0ed",
   "metadata": {
    "execution": {
     "iopub.execute_input": "2025-07-30T11:41:38.911650Z",
     "iopub.status.busy": "2025-07-30T11:41:38.911413Z",
     "iopub.status.idle": "2025-07-30T11:41:39.622471Z",
     "shell.execute_reply": "2025-07-30T11:41:39.621691Z",
     "shell.execute_reply.started": "2025-07-30T11:41:38.911633Z"
    }
   },
   "outputs": [],
   "source": [
    "x_arr = np.array(x)\n",
    "y_arr = np.array(y)"
   ]
  },
  {
   "cell_type": "code",
   "execution_count": 6,
   "id": "2341dc7e-39a8-4a57-8227-61d17ca5d872",
   "metadata": {
    "execution": {
     "iopub.execute_input": "2025-07-30T11:41:39.623496Z",
     "iopub.status.busy": "2025-07-30T11:41:39.623279Z",
     "iopub.status.idle": "2025-07-30T11:41:40.319853Z",
     "shell.execute_reply": "2025-07-30T11:41:40.318809Z",
     "shell.execute_reply.started": "2025-07-30T11:41:39.623478Z"
    }
   },
   "outputs": [],
   "source": [
    "x_train, x_test, y_train, y_test = train_test_split(x_arr, y_arr, test_size=0.2, random_state=42)"
   ]
  },
  {
   "cell_type": "code",
   "execution_count": 7,
   "id": "a2ef309f-9de0-4e2e-8374-30770e90a162",
   "metadata": {
    "execution": {
     "iopub.execute_input": "2025-07-30T11:41:40.321277Z",
     "iopub.status.busy": "2025-07-30T11:41:40.320741Z",
     "iopub.status.idle": "2025-07-30T11:41:44.210832Z",
     "shell.execute_reply": "2025-07-30T11:41:44.210261Z",
     "shell.execute_reply.started": "2025-07-30T11:41:40.321250Z"
    }
   },
   "outputs": [
    {
     "name": "stderr",
     "output_type": "stream",
     "text": [
      "/usr/local/lib/python3.11/dist-packages/keras/src/layers/convolutional/base_conv.py:107: UserWarning: Do not pass an `input_shape`/`input_dim` argument to a layer. When using Sequential models, prefer using an `Input(shape)` object as the first layer in the model instead.\n",
      "  super().__init__(activity_regularizer=activity_regularizer, **kwargs)\n",
      "I0000 00:00:1753875702.364888      36 gpu_device.cc:2022] Created device /job:localhost/replica:0/task:0/device:GPU:0 with 13942 MB memory:  -> device: 0, name: Tesla T4, pci bus id: 0000:00:04.0, compute capability: 7.5\n",
      "I0000 00:00:1753875702.365582      36 gpu_device.cc:2022] Created device /job:localhost/replica:0/task:0/device:GPU:1 with 13942 MB memory:  -> device: 1, name: Tesla T4, pci bus id: 0000:00:05.0, compute capability: 7.5\n"
     ]
    }
   ],
   "source": [
    "model = Sequential(\n",
    "    [\n",
    "        Conv2D(input_shape=(60, 60, 3), filters=32, kernel_size=(3, 3), activation='relu'),\n",
    "        MaxPooling2D(),\n",
    "        Conv2D(filters=64, kernel_size=(3, 3), activation='relu'),\n",
    "        Conv2D(filters=124, kernel_size=(3, 3), activation='relu'),\n",
    "        Flatten(),\n",
    "        Dense(64, activation='relu'),\n",
    "        Dense(32, activation='relu'),\n",
    "        Dense(1, activation='sigmoid')\n",
    "    ]\n",
    "    \n",
    ")"
   ]
  },
  {
   "cell_type": "code",
   "execution_count": 8,
   "id": "0e6121dc-3d0f-4e53-966f-6256cd9356d5",
   "metadata": {
    "execution": {
     "iopub.execute_input": "2025-07-30T11:41:44.211685Z",
     "iopub.status.busy": "2025-07-30T11:41:44.211470Z",
     "iopub.status.idle": "2025-07-30T11:41:44.228415Z",
     "shell.execute_reply": "2025-07-30T11:41:44.227756Z",
     "shell.execute_reply.started": "2025-07-30T11:41:44.211668Z"
    }
   },
   "outputs": [
    {
     "data": {
      "text/html": [
       "<pre style=\"white-space:pre;overflow-x:auto;line-height:normal;font-family:Menlo,'DejaVu Sans Mono',consolas,'Courier New',monospace\"><span style=\"font-weight: bold\">Model: \"sequential\"</span>\n",
       "</pre>\n"
      ],
      "text/plain": [
       "\u001b[1mModel: \"sequential\"\u001b[0m\n"
      ]
     },
     "metadata": {},
     "output_type": "display_data"
    },
    {
     "data": {
      "text/html": [
       "<pre style=\"white-space:pre;overflow-x:auto;line-height:normal;font-family:Menlo,'DejaVu Sans Mono',consolas,'Courier New',monospace\">┏━━━━━━━━━━━━━━━━━━━━━━━━━━━━━━━━━┳━━━━━━━━━━━━━━━━━━━━━━━━┳━━━━━━━━━━━━━━━┓\n",
       "┃<span style=\"font-weight: bold\"> Layer (type)                    </span>┃<span style=\"font-weight: bold\"> Output Shape           </span>┃<span style=\"font-weight: bold\">       Param # </span>┃\n",
       "┡━━━━━━━━━━━━━━━━━━━━━━━━━━━━━━━━━╇━━━━━━━━━━━━━━━━━━━━━━━━╇━━━━━━━━━━━━━━━┩\n",
       "│ conv2d (<span style=\"color: #0087ff; text-decoration-color: #0087ff\">Conv2D</span>)                 │ (<span style=\"color: #00d7ff; text-decoration-color: #00d7ff\">None</span>, <span style=\"color: #00af00; text-decoration-color: #00af00\">58</span>, <span style=\"color: #00af00; text-decoration-color: #00af00\">58</span>, <span style=\"color: #00af00; text-decoration-color: #00af00\">32</span>)     │           <span style=\"color: #00af00; text-decoration-color: #00af00\">896</span> │\n",
       "├─────────────────────────────────┼────────────────────────┼───────────────┤\n",
       "│ max_pooling2d (<span style=\"color: #0087ff; text-decoration-color: #0087ff\">MaxPooling2D</span>)    │ (<span style=\"color: #00d7ff; text-decoration-color: #00d7ff\">None</span>, <span style=\"color: #00af00; text-decoration-color: #00af00\">29</span>, <span style=\"color: #00af00; text-decoration-color: #00af00\">29</span>, <span style=\"color: #00af00; text-decoration-color: #00af00\">32</span>)     │             <span style=\"color: #00af00; text-decoration-color: #00af00\">0</span> │\n",
       "├─────────────────────────────────┼────────────────────────┼───────────────┤\n",
       "│ conv2d_1 (<span style=\"color: #0087ff; text-decoration-color: #0087ff\">Conv2D</span>)               │ (<span style=\"color: #00d7ff; text-decoration-color: #00d7ff\">None</span>, <span style=\"color: #00af00; text-decoration-color: #00af00\">27</span>, <span style=\"color: #00af00; text-decoration-color: #00af00\">27</span>, <span style=\"color: #00af00; text-decoration-color: #00af00\">64</span>)     │        <span style=\"color: #00af00; text-decoration-color: #00af00\">18,496</span> │\n",
       "├─────────────────────────────────┼────────────────────────┼───────────────┤\n",
       "│ conv2d_2 (<span style=\"color: #0087ff; text-decoration-color: #0087ff\">Conv2D</span>)               │ (<span style=\"color: #00d7ff; text-decoration-color: #00d7ff\">None</span>, <span style=\"color: #00af00; text-decoration-color: #00af00\">25</span>, <span style=\"color: #00af00; text-decoration-color: #00af00\">25</span>, <span style=\"color: #00af00; text-decoration-color: #00af00\">124</span>)    │        <span style=\"color: #00af00; text-decoration-color: #00af00\">71,548</span> │\n",
       "├─────────────────────────────────┼────────────────────────┼───────────────┤\n",
       "│ flatten (<span style=\"color: #0087ff; text-decoration-color: #0087ff\">Flatten</span>)               │ (<span style=\"color: #00d7ff; text-decoration-color: #00d7ff\">None</span>, <span style=\"color: #00af00; text-decoration-color: #00af00\">77500</span>)          │             <span style=\"color: #00af00; text-decoration-color: #00af00\">0</span> │\n",
       "├─────────────────────────────────┼────────────────────────┼───────────────┤\n",
       "│ dense (<span style=\"color: #0087ff; text-decoration-color: #0087ff\">Dense</span>)                   │ (<span style=\"color: #00d7ff; text-decoration-color: #00d7ff\">None</span>, <span style=\"color: #00af00; text-decoration-color: #00af00\">64</span>)             │     <span style=\"color: #00af00; text-decoration-color: #00af00\">4,960,064</span> │\n",
       "├─────────────────────────────────┼────────────────────────┼───────────────┤\n",
       "│ dense_1 (<span style=\"color: #0087ff; text-decoration-color: #0087ff\">Dense</span>)                 │ (<span style=\"color: #00d7ff; text-decoration-color: #00d7ff\">None</span>, <span style=\"color: #00af00; text-decoration-color: #00af00\">32</span>)             │         <span style=\"color: #00af00; text-decoration-color: #00af00\">2,080</span> │\n",
       "├─────────────────────────────────┼────────────────────────┼───────────────┤\n",
       "│ dense_2 (<span style=\"color: #0087ff; text-decoration-color: #0087ff\">Dense</span>)                 │ (<span style=\"color: #00d7ff; text-decoration-color: #00d7ff\">None</span>, <span style=\"color: #00af00; text-decoration-color: #00af00\">1</span>)              │            <span style=\"color: #00af00; text-decoration-color: #00af00\">33</span> │\n",
       "└─────────────────────────────────┴────────────────────────┴───────────────┘\n",
       "</pre>\n"
      ],
      "text/plain": [
       "┏━━━━━━━━━━━━━━━━━━━━━━━━━━━━━━━━━┳━━━━━━━━━━━━━━━━━━━━━━━━┳━━━━━━━━━━━━━━━┓\n",
       "┃\u001b[1m \u001b[0m\u001b[1mLayer (type)                   \u001b[0m\u001b[1m \u001b[0m┃\u001b[1m \u001b[0m\u001b[1mOutput Shape          \u001b[0m\u001b[1m \u001b[0m┃\u001b[1m \u001b[0m\u001b[1m      Param #\u001b[0m\u001b[1m \u001b[0m┃\n",
       "┡━━━━━━━━━━━━━━━━━━━━━━━━━━━━━━━━━╇━━━━━━━━━━━━━━━━━━━━━━━━╇━━━━━━━━━━━━━━━┩\n",
       "│ conv2d (\u001b[38;5;33mConv2D\u001b[0m)                 │ (\u001b[38;5;45mNone\u001b[0m, \u001b[38;5;34m58\u001b[0m, \u001b[38;5;34m58\u001b[0m, \u001b[38;5;34m32\u001b[0m)     │           \u001b[38;5;34m896\u001b[0m │\n",
       "├─────────────────────────────────┼────────────────────────┼───────────────┤\n",
       "│ max_pooling2d (\u001b[38;5;33mMaxPooling2D\u001b[0m)    │ (\u001b[38;5;45mNone\u001b[0m, \u001b[38;5;34m29\u001b[0m, \u001b[38;5;34m29\u001b[0m, \u001b[38;5;34m32\u001b[0m)     │             \u001b[38;5;34m0\u001b[0m │\n",
       "├─────────────────────────────────┼────────────────────────┼───────────────┤\n",
       "│ conv2d_1 (\u001b[38;5;33mConv2D\u001b[0m)               │ (\u001b[38;5;45mNone\u001b[0m, \u001b[38;5;34m27\u001b[0m, \u001b[38;5;34m27\u001b[0m, \u001b[38;5;34m64\u001b[0m)     │        \u001b[38;5;34m18,496\u001b[0m │\n",
       "├─────────────────────────────────┼────────────────────────┼───────────────┤\n",
       "│ conv2d_2 (\u001b[38;5;33mConv2D\u001b[0m)               │ (\u001b[38;5;45mNone\u001b[0m, \u001b[38;5;34m25\u001b[0m, \u001b[38;5;34m25\u001b[0m, \u001b[38;5;34m124\u001b[0m)    │        \u001b[38;5;34m71,548\u001b[0m │\n",
       "├─────────────────────────────────┼────────────────────────┼───────────────┤\n",
       "│ flatten (\u001b[38;5;33mFlatten\u001b[0m)               │ (\u001b[38;5;45mNone\u001b[0m, \u001b[38;5;34m77500\u001b[0m)          │             \u001b[38;5;34m0\u001b[0m │\n",
       "├─────────────────────────────────┼────────────────────────┼───────────────┤\n",
       "│ dense (\u001b[38;5;33mDense\u001b[0m)                   │ (\u001b[38;5;45mNone\u001b[0m, \u001b[38;5;34m64\u001b[0m)             │     \u001b[38;5;34m4,960,064\u001b[0m │\n",
       "├─────────────────────────────────┼────────────────────────┼───────────────┤\n",
       "│ dense_1 (\u001b[38;5;33mDense\u001b[0m)                 │ (\u001b[38;5;45mNone\u001b[0m, \u001b[38;5;34m32\u001b[0m)             │         \u001b[38;5;34m2,080\u001b[0m │\n",
       "├─────────────────────────────────┼────────────────────────┼───────────────┤\n",
       "│ dense_2 (\u001b[38;5;33mDense\u001b[0m)                 │ (\u001b[38;5;45mNone\u001b[0m, \u001b[38;5;34m1\u001b[0m)              │            \u001b[38;5;34m33\u001b[0m │\n",
       "└─────────────────────────────────┴────────────────────────┴───────────────┘\n"
      ]
     },
     "metadata": {},
     "output_type": "display_data"
    },
    {
     "data": {
      "text/html": [
       "<pre style=\"white-space:pre;overflow-x:auto;line-height:normal;font-family:Menlo,'DejaVu Sans Mono',consolas,'Courier New',monospace\"><span style=\"font-weight: bold\"> Total params: </span><span style=\"color: #00af00; text-decoration-color: #00af00\">5,053,117</span> (19.28 MB)\n",
       "</pre>\n"
      ],
      "text/plain": [
       "\u001b[1m Total params: \u001b[0m\u001b[38;5;34m5,053,117\u001b[0m (19.28 MB)\n"
      ]
     },
     "metadata": {},
     "output_type": "display_data"
    },
    {
     "data": {
      "text/html": [
       "<pre style=\"white-space:pre;overflow-x:auto;line-height:normal;font-family:Menlo,'DejaVu Sans Mono',consolas,'Courier New',monospace\"><span style=\"font-weight: bold\"> Trainable params: </span><span style=\"color: #00af00; text-decoration-color: #00af00\">5,053,117</span> (19.28 MB)\n",
       "</pre>\n"
      ],
      "text/plain": [
       "\u001b[1m Trainable params: \u001b[0m\u001b[38;5;34m5,053,117\u001b[0m (19.28 MB)\n"
      ]
     },
     "metadata": {},
     "output_type": "display_data"
    },
    {
     "data": {
      "text/html": [
       "<pre style=\"white-space:pre;overflow-x:auto;line-height:normal;font-family:Menlo,'DejaVu Sans Mono',consolas,'Courier New',monospace\"><span style=\"font-weight: bold\"> Non-trainable params: </span><span style=\"color: #00af00; text-decoration-color: #00af00\">0</span> (0.00 B)\n",
       "</pre>\n"
      ],
      "text/plain": [
       "\u001b[1m Non-trainable params: \u001b[0m\u001b[38;5;34m0\u001b[0m (0.00 B)\n"
      ]
     },
     "metadata": {},
     "output_type": "display_data"
    }
   ],
   "source": [
    "model.summary()"
   ]
  },
  {
   "cell_type": "code",
   "execution_count": 9,
   "id": "ab74bd34-a733-46f4-accd-b7f91952bb36",
   "metadata": {
    "execution": {
     "iopub.execute_input": "2025-07-30T11:41:44.230104Z",
     "iopub.status.busy": "2025-07-30T11:41:44.229229Z",
     "iopub.status.idle": "2025-07-30T11:41:44.245738Z",
     "shell.execute_reply": "2025-07-30T11:41:44.245041Z",
     "shell.execute_reply.started": "2025-07-30T11:41:44.230085Z"
    }
   },
   "outputs": [],
   "source": [
    "model.compile(optimizer='SGD', loss='binary_crossentropy', metrics=['accuracy'])"
   ]
  },
  {
   "cell_type": "code",
   "execution_count": 10,
   "id": "33707704-5ee2-480d-bf00-f737696a46e5",
   "metadata": {
    "execution": {
     "iopub.execute_input": "2025-07-30T11:41:44.246736Z",
     "iopub.status.busy": "2025-07-30T11:41:44.246402Z",
     "iopub.status.idle": "2025-07-30T11:41:44.250271Z",
     "shell.execute_reply": "2025-07-30T11:41:44.249705Z",
     "shell.execute_reply.started": "2025-07-30T11:41:44.246720Z"
    }
   },
   "outputs": [],
   "source": [
    "early_stop = EarlyStopping(min_delta=0.002, patience=7, verbose=1, restore_best_weights=True)"
   ]
  },
  {
   "cell_type": "code",
   "execution_count": 11,
   "id": "0a7e7460-ed7c-4082-9f09-ad93625d6125",
   "metadata": {
    "execution": {
     "iopub.execute_input": "2025-07-30T11:41:44.251631Z",
     "iopub.status.busy": "2025-07-30T11:41:44.250954Z",
     "iopub.status.idle": "2025-07-30T11:44:56.800648Z",
     "shell.execute_reply": "2025-07-30T11:44:56.799984Z",
     "shell.execute_reply.started": "2025-07-30T11:41:44.251614Z"
    }
   },
   "outputs": [
    {
     "name": "stdout",
     "output_type": "stream",
     "text": [
      "Epoch 1/100\n"
     ]
    },
    {
     "name": "stderr",
     "output_type": "stream",
     "text": [
      "WARNING: All log messages before absl::InitializeLog() is called are written to STDERR\n",
      "I0000 00:00:1753875707.496482      98 service.cc:148] XLA service 0x7cdef40073f0 initialized for platform CUDA (this does not guarantee that XLA will be used). Devices:\n",
      "I0000 00:00:1753875707.497848      98 service.cc:156]   StreamExecutor device (0): Tesla T4, Compute Capability 7.5\n",
      "I0000 00:00:1753875707.497868      98 service.cc:156]   StreamExecutor device (1): Tesla T4, Compute Capability 7.5\n",
      "I0000 00:00:1753875707.788713      98 cuda_dnn.cc:529] Loaded cuDNN version 90300\n"
     ]
    },
    {
     "name": "stdout",
     "output_type": "stream",
     "text": [
      "\u001b[1m  7/138\u001b[0m \u001b[32m━\u001b[0m\u001b[37m━━━━━━━━━━━━━━━━━━━\u001b[0m \u001b[1m2s\u001b[0m 21ms/step - accuracy: 0.4946 - loss: 0.6931"
     ]
    },
    {
     "name": "stderr",
     "output_type": "stream",
     "text": [
      "I0000 00:00:1753875711.776589      98 device_compiler.h:188] Compiled cluster using XLA!  This line is logged at most once for the lifetime of the process.\n"
     ]
    },
    {
     "name": "stdout",
     "output_type": "stream",
     "text": [
      "\u001b[1m138/138\u001b[0m \u001b[32m━━━━━━━━━━━━━━━━━━━━\u001b[0m\u001b[37m\u001b[0m \u001b[1m12s\u001b[0m 51ms/step - accuracy: 0.5514 - loss: 0.6862 - val_accuracy: 0.6238 - val_loss: 0.6682\n",
      "Epoch 2/100\n",
      "\u001b[1m138/138\u001b[0m \u001b[32m━━━━━━━━━━━━━━━━━━━━\u001b[0m\u001b[37m\u001b[0m \u001b[1m3s\u001b[0m 23ms/step - accuracy: 0.6014 - loss: 0.6640 - val_accuracy: 0.6331 - val_loss: 0.6532\n",
      "Epoch 3/100\n",
      "\u001b[1m138/138\u001b[0m \u001b[32m━━━━━━━━━━━━━━━━━━━━\u001b[0m\u001b[37m\u001b[0m \u001b[1m3s\u001b[0m 23ms/step - accuracy: 0.6097 - loss: 0.6537 - val_accuracy: 0.5810 - val_loss: 0.6650\n",
      "Epoch 4/100\n",
      "\u001b[1m138/138\u001b[0m \u001b[32m━━━━━━━━━━━━━━━━━━━━\u001b[0m\u001b[37m\u001b[0m \u001b[1m3s\u001b[0m 23ms/step - accuracy: 0.6358 - loss: 0.6401 - val_accuracy: 0.6719 - val_loss: 0.6164\n",
      "Epoch 5/100\n",
      "\u001b[1m138/138\u001b[0m \u001b[32m━━━━━━━━━━━━━━━━━━━━\u001b[0m\u001b[37m\u001b[0m \u001b[1m3s\u001b[0m 22ms/step - accuracy: 0.6428 - loss: 0.6323 - val_accuracy: 0.6159 - val_loss: 0.6400\n",
      "Epoch 6/100\n",
      "\u001b[1m138/138\u001b[0m \u001b[32m━━━━━━━━━━━━━━━━━━━━\u001b[0m\u001b[37m\u001b[0m \u001b[1m3s\u001b[0m 23ms/step - accuracy: 0.6576 - loss: 0.6223 - val_accuracy: 0.6800 - val_loss: 0.6117\n",
      "Epoch 7/100\n",
      "\u001b[1m138/138\u001b[0m \u001b[32m━━━━━━━━━━━━━━━━━━━━\u001b[0m\u001b[37m\u001b[0m \u001b[1m3s\u001b[0m 23ms/step - accuracy: 0.6755 - loss: 0.6090 - val_accuracy: 0.6580 - val_loss: 0.6059\n",
      "Epoch 8/100\n",
      "\u001b[1m138/138\u001b[0m \u001b[32m━━━━━━━━━━━━━━━━━━━━\u001b[0m\u001b[37m\u001b[0m \u001b[1m3s\u001b[0m 23ms/step - accuracy: 0.6934 - loss: 0.5917 - val_accuracy: 0.7168 - val_loss: 0.5755\n",
      "Epoch 9/100\n",
      "\u001b[1m138/138\u001b[0m \u001b[32m━━━━━━━━━━━━━━━━━━━━\u001b[0m\u001b[37m\u001b[0m \u001b[1m3s\u001b[0m 23ms/step - accuracy: 0.7019 - loss: 0.5796 - val_accuracy: 0.6773 - val_loss: 0.5872\n",
      "Epoch 10/100\n",
      "\u001b[1m138/138\u001b[0m \u001b[32m━━━━━━━━━━━━━━━━━━━━\u001b[0m\u001b[37m\u001b[0m \u001b[1m3s\u001b[0m 23ms/step - accuracy: 0.7218 - loss: 0.5542 - val_accuracy: 0.7297 - val_loss: 0.5442\n",
      "Epoch 11/100\n",
      "\u001b[1m138/138\u001b[0m \u001b[32m━━━━━━━━━━━━━━━━━━━━\u001b[0m\u001b[37m\u001b[0m \u001b[1m3s\u001b[0m 23ms/step - accuracy: 0.7276 - loss: 0.5504 - val_accuracy: 0.7560 - val_loss: 0.5296\n",
      "Epoch 12/100\n",
      "\u001b[1m138/138\u001b[0m \u001b[32m━━━━━━━━━━━━━━━━━━━━\u001b[0m\u001b[37m\u001b[0m \u001b[1m3s\u001b[0m 23ms/step - accuracy: 0.7628 - loss: 0.5071 - val_accuracy: 0.8213 - val_loss: 0.4850\n",
      "Epoch 13/100\n",
      "\u001b[1m138/138\u001b[0m \u001b[32m━━━━━━━━━━━━━━━━━━━━\u001b[0m\u001b[37m\u001b[0m \u001b[1m3s\u001b[0m 23ms/step - accuracy: 0.8095 - loss: 0.4403 - val_accuracy: 0.8544 - val_loss: 0.3699\n",
      "Epoch 14/100\n",
      "\u001b[1m138/138\u001b[0m \u001b[32m━━━━━━━━━━━━━━━━━━━━\u001b[0m\u001b[37m\u001b[0m \u001b[1m3s\u001b[0m 23ms/step - accuracy: 0.8543 - loss: 0.3635 - val_accuracy: 0.8662 - val_loss: 0.3101\n",
      "Epoch 15/100\n",
      "\u001b[1m138/138\u001b[0m \u001b[32m━━━━━━━━━━━━━━━━━━━━\u001b[0m\u001b[37m\u001b[0m \u001b[1m3s\u001b[0m 23ms/step - accuracy: 0.8900 - loss: 0.2842 - val_accuracy: 0.8937 - val_loss: 0.2710\n",
      "Epoch 16/100\n",
      "\u001b[1m138/138\u001b[0m \u001b[32m━━━━━━━━━━━━━━━━━━━━\u001b[0m\u001b[37m\u001b[0m \u001b[1m3s\u001b[0m 23ms/step - accuracy: 0.9079 - loss: 0.2512 - val_accuracy: 0.8946 - val_loss: 0.2563\n",
      "Epoch 17/100\n",
      "\u001b[1m138/138\u001b[0m \u001b[32m━━━━━━━━━━━━━━━━━━━━\u001b[0m\u001b[37m\u001b[0m \u001b[1m3s\u001b[0m 24ms/step - accuracy: 0.9160 - loss: 0.2252 - val_accuracy: 0.9274 - val_loss: 0.2274\n",
      "Epoch 18/100\n",
      "\u001b[1m138/138\u001b[0m \u001b[32m━━━━━━━━━━━━━━━━━━━━\u001b[0m\u001b[37m\u001b[0m \u001b[1m3s\u001b[0m 23ms/step - accuracy: 0.9211 - loss: 0.2097 - val_accuracy: 0.9073 - val_loss: 0.2403\n",
      "Epoch 19/100\n",
      "\u001b[1m138/138\u001b[0m \u001b[32m━━━━━━━━━━━━━━━━━━━━\u001b[0m\u001b[37m\u001b[0m \u001b[1m3s\u001b[0m 23ms/step - accuracy: 0.9236 - loss: 0.2091 - val_accuracy: 0.9290 - val_loss: 0.2029\n",
      "Epoch 20/100\n",
      "\u001b[1m138/138\u001b[0m \u001b[32m━━━━━━━━━━━━━━━━━━━━\u001b[0m\u001b[37m\u001b[0m \u001b[1m3s\u001b[0m 23ms/step - accuracy: 0.9224 - loss: 0.2126 - val_accuracy: 0.9211 - val_loss: 0.2117\n",
      "Epoch 21/100\n",
      "\u001b[1m138/138\u001b[0m \u001b[32m━━━━━━━━━━━━━━━━━━━━\u001b[0m\u001b[37m\u001b[0m \u001b[1m3s\u001b[0m 24ms/step - accuracy: 0.9308 - loss: 0.1929 - val_accuracy: 0.9308 - val_loss: 0.1947\n",
      "Epoch 22/100\n",
      "\u001b[1m138/138\u001b[0m \u001b[32m━━━━━━━━━━━━━━━━━━━━\u001b[0m\u001b[37m\u001b[0m \u001b[1m3s\u001b[0m 24ms/step - accuracy: 0.9326 - loss: 0.1890 - val_accuracy: 0.9392 - val_loss: 0.2042\n",
      "Epoch 23/100\n",
      "\u001b[1m138/138\u001b[0m \u001b[32m━━━━━━━━━━━━━━━━━━━━\u001b[0m\u001b[37m\u001b[0m \u001b[1m3s\u001b[0m 24ms/step - accuracy: 0.9195 - loss: 0.2164 - val_accuracy: 0.9200 - val_loss: 0.2171\n",
      "Epoch 24/100\n",
      "\u001b[1m138/138\u001b[0m \u001b[32m━━━━━━━━━━━━━━━━━━━━\u001b[0m\u001b[37m\u001b[0m \u001b[1m3s\u001b[0m 24ms/step - accuracy: 0.9264 - loss: 0.1998 - val_accuracy: 0.9288 - val_loss: 0.1956\n",
      "Epoch 25/100\n",
      "\u001b[1m138/138\u001b[0m \u001b[32m━━━━━━━━━━━━━━━━━━━━\u001b[0m\u001b[37m\u001b[0m \u001b[1m3s\u001b[0m 24ms/step - accuracy: 0.9305 - loss: 0.1906 - val_accuracy: 0.9281 - val_loss: 0.2021\n",
      "Epoch 26/100\n",
      "\u001b[1m138/138\u001b[0m \u001b[32m━━━━━━━━━━━━━━━━━━━━\u001b[0m\u001b[37m\u001b[0m \u001b[1m3s\u001b[0m 24ms/step - accuracy: 0.9352 - loss: 0.1802 - val_accuracy: 0.9293 - val_loss: 0.1952\n",
      "Epoch 27/100\n",
      "\u001b[1m138/138\u001b[0m \u001b[32m━━━━━━━━━━━━━━━━━━━━\u001b[0m\u001b[37m\u001b[0m \u001b[1m3s\u001b[0m 25ms/step - accuracy: 0.9342 - loss: 0.1818 - val_accuracy: 0.9329 - val_loss: 0.1899\n",
      "Epoch 28/100\n",
      "\u001b[1m138/138\u001b[0m \u001b[32m━━━━━━━━━━━━━━━━━━━━\u001b[0m\u001b[37m\u001b[0m \u001b[1m3s\u001b[0m 24ms/step - accuracy: 0.9323 - loss: 0.1809 - val_accuracy: 0.9327 - val_loss: 0.1961\n",
      "Epoch 29/100\n",
      "\u001b[1m138/138\u001b[0m \u001b[32m━━━━━━━━━━━━━━━━━━━━\u001b[0m\u001b[37m\u001b[0m \u001b[1m3s\u001b[0m 24ms/step - accuracy: 0.9382 - loss: 0.1766 - val_accuracy: 0.9331 - val_loss: 0.1874\n",
      "Epoch 30/100\n",
      "\u001b[1m138/138\u001b[0m \u001b[32m━━━━━━━━━━━━━━━━━━━━\u001b[0m\u001b[37m\u001b[0m \u001b[1m3s\u001b[0m 25ms/step - accuracy: 0.9406 - loss: 0.1717 - val_accuracy: 0.9290 - val_loss: 0.1992\n",
      "Epoch 31/100\n",
      "\u001b[1m138/138\u001b[0m \u001b[32m━━━━━━━━━━━━━━━━━━━━\u001b[0m\u001b[37m\u001b[0m \u001b[1m3s\u001b[0m 24ms/step - accuracy: 0.9323 - loss: 0.1887 - val_accuracy: 0.9342 - val_loss: 0.1887\n",
      "Epoch 32/100\n",
      "\u001b[1m138/138\u001b[0m \u001b[32m━━━━━━━━━━━━━━━━━━━━\u001b[0m\u001b[37m\u001b[0m \u001b[1m3s\u001b[0m 25ms/step - accuracy: 0.9412 - loss: 0.1750 - val_accuracy: 0.9340 - val_loss: 0.1887\n",
      "Epoch 33/100\n",
      "\u001b[1m138/138\u001b[0m \u001b[32m━━━━━━━━━━━━━━━━━━━━\u001b[0m\u001b[37m\u001b[0m \u001b[1m3s\u001b[0m 25ms/step - accuracy: 0.9391 - loss: 0.1719 - val_accuracy: 0.9404 - val_loss: 0.1796\n",
      "Epoch 34/100\n",
      "\u001b[1m138/138\u001b[0m \u001b[32m━━━━━━━━━━━━━━━━━━━━\u001b[0m\u001b[37m\u001b[0m \u001b[1m3s\u001b[0m 24ms/step - accuracy: 0.9412 - loss: 0.1690 - val_accuracy: 0.9408 - val_loss: 0.1780\n",
      "Epoch 35/100\n",
      "\u001b[1m138/138\u001b[0m \u001b[32m━━━━━━━━━━━━━━━━━━━━\u001b[0m\u001b[37m\u001b[0m \u001b[1m3s\u001b[0m 24ms/step - accuracy: 0.9422 - loss: 0.1668 - val_accuracy: 0.9277 - val_loss: 0.2061\n",
      "Epoch 36/100\n",
      "\u001b[1m138/138\u001b[0m \u001b[32m━━━━━━━━━━━━━━━━━━━━\u001b[0m\u001b[37m\u001b[0m \u001b[1m3s\u001b[0m 24ms/step - accuracy: 0.9391 - loss: 0.1719 - val_accuracy: 0.9383 - val_loss: 0.1781\n",
      "Epoch 37/100\n",
      "\u001b[1m138/138\u001b[0m \u001b[32m━━━━━━━━━━━━━━━━━━━━\u001b[0m\u001b[37m\u001b[0m \u001b[1m3s\u001b[0m 24ms/step - accuracy: 0.9423 - loss: 0.1672 - val_accuracy: 0.9397 - val_loss: 0.1809\n",
      "Epoch 38/100\n",
      "\u001b[1m138/138\u001b[0m \u001b[32m━━━━━━━━━━━━━━━━━━━━\u001b[0m\u001b[37m\u001b[0m \u001b[1m3s\u001b[0m 24ms/step - accuracy: 0.9463 - loss: 0.1658 - val_accuracy: 0.9458 - val_loss: 0.1791\n",
      "Epoch 39/100\n",
      "\u001b[1m138/138\u001b[0m \u001b[32m━━━━━━━━━━━━━━━━━━━━\u001b[0m\u001b[37m\u001b[0m \u001b[1m3s\u001b[0m 24ms/step - accuracy: 0.9452 - loss: 0.1642 - val_accuracy: 0.9447 - val_loss: 0.1709\n",
      "Epoch 40/100\n",
      "\u001b[1m138/138\u001b[0m \u001b[32m━━━━━━━━━━━━━━━━━━━━\u001b[0m\u001b[37m\u001b[0m \u001b[1m3s\u001b[0m 24ms/step - accuracy: 0.9455 - loss: 0.1650 - val_accuracy: 0.9408 - val_loss: 0.1792\n",
      "Epoch 41/100\n",
      "\u001b[1m138/138\u001b[0m \u001b[32m━━━━━━━━━━━━━━━━━━━━\u001b[0m\u001b[37m\u001b[0m \u001b[1m3s\u001b[0m 24ms/step - accuracy: 0.9479 - loss: 0.1576 - val_accuracy: 0.9449 - val_loss: 0.1666\n",
      "Epoch 42/100\n",
      "\u001b[1m138/138\u001b[0m \u001b[32m━━━━━━━━━━━━━━━━━━━━\u001b[0m\u001b[37m\u001b[0m \u001b[1m3s\u001b[0m 24ms/step - accuracy: 0.9451 - loss: 0.1603 - val_accuracy: 0.9413 - val_loss: 0.1761\n",
      "Epoch 43/100\n",
      "\u001b[1m138/138\u001b[0m \u001b[32m━━━━━━━━━━━━━━━━━━━━\u001b[0m\u001b[37m\u001b[0m \u001b[1m3s\u001b[0m 24ms/step - accuracy: 0.9511 - loss: 0.1478 - val_accuracy: 0.9379 - val_loss: 0.1895\n",
      "Epoch 44/100\n",
      "\u001b[1m138/138\u001b[0m \u001b[32m━━━━━━━━━━━━━━━━━━━━\u001b[0m\u001b[37m\u001b[0m \u001b[1m3s\u001b[0m 24ms/step - accuracy: 0.9454 - loss: 0.1549 - val_accuracy: 0.9469 - val_loss: 0.1709\n",
      "Epoch 45/100\n",
      "\u001b[1m138/138\u001b[0m \u001b[32m━━━━━━━━━━━━━━━━━━━━\u001b[0m\u001b[37m\u001b[0m \u001b[1m3s\u001b[0m 24ms/step - accuracy: 0.9494 - loss: 0.1486 - val_accuracy: 0.9481 - val_loss: 0.1768\n",
      "Epoch 46/100\n",
      "\u001b[1m138/138\u001b[0m \u001b[32m━━━━━━━━━━━━━━━━━━━━\u001b[0m\u001b[37m\u001b[0m \u001b[1m3s\u001b[0m 24ms/step - accuracy: 0.9499 - loss: 0.1475 - val_accuracy: 0.9474 - val_loss: 0.1654\n",
      "Epoch 47/100\n",
      "\u001b[1m138/138\u001b[0m \u001b[32m━━━━━━━━━━━━━━━━━━━━\u001b[0m\u001b[37m\u001b[0m \u001b[1m3s\u001b[0m 24ms/step - accuracy: 0.9482 - loss: 0.1536 - val_accuracy: 0.9472 - val_loss: 0.1677\n",
      "Epoch 48/100\n",
      "\u001b[1m138/138\u001b[0m \u001b[32m━━━━━━━━━━━━━━━━━━━━\u001b[0m\u001b[37m\u001b[0m \u001b[1m3s\u001b[0m 24ms/step - accuracy: 0.9482 - loss: 0.1522 - val_accuracy: 0.9506 - val_loss: 0.1576\n",
      "Epoch 49/100\n",
      "\u001b[1m138/138\u001b[0m \u001b[32m━━━━━━━━━━━━━━━━━━━━\u001b[0m\u001b[37m\u001b[0m \u001b[1m3s\u001b[0m 24ms/step - accuracy: 0.9516 - loss: 0.1455 - val_accuracy: 0.9492 - val_loss: 0.1613\n",
      "Epoch 50/100\n",
      "\u001b[1m138/138\u001b[0m \u001b[32m━━━━━━━━━━━━━━━━━━━━\u001b[0m\u001b[37m\u001b[0m \u001b[1m3s\u001b[0m 24ms/step - accuracy: 0.9518 - loss: 0.1465 - val_accuracy: 0.9506 - val_loss: 0.1632\n",
      "Epoch 51/100\n",
      "\u001b[1m138/138\u001b[0m \u001b[32m━━━━━━━━━━━━━━━━━━━━\u001b[0m\u001b[37m\u001b[0m \u001b[1m3s\u001b[0m 24ms/step - accuracy: 0.9484 - loss: 0.1461 - val_accuracy: 0.9490 - val_loss: 0.1615\n",
      "Epoch 52/100\n",
      "\u001b[1m138/138\u001b[0m \u001b[32m━━━━━━━━━━━━━━━━━━━━\u001b[0m\u001b[37m\u001b[0m \u001b[1m3s\u001b[0m 24ms/step - accuracy: 0.9500 - loss: 0.1438 - val_accuracy: 0.9492 - val_loss: 0.1621\n",
      "Epoch 53/100\n",
      "\u001b[1m138/138\u001b[0m \u001b[32m━━━━━━━━━━━━━━━━━━━━\u001b[0m\u001b[37m\u001b[0m \u001b[1m3s\u001b[0m 24ms/step - accuracy: 0.9543 - loss: 0.1366 - val_accuracy: 0.9499 - val_loss: 0.1712\n",
      "Epoch 54/100\n",
      "\u001b[1m138/138\u001b[0m \u001b[32m━━━━━━━━━━━━━━━━━━━━\u001b[0m\u001b[37m\u001b[0m \u001b[1m3s\u001b[0m 24ms/step - accuracy: 0.9512 - loss: 0.1476 - val_accuracy: 0.9481 - val_loss: 0.1650\n",
      "Epoch 55/100\n",
      "\u001b[1m138/138\u001b[0m \u001b[32m━━━━━━━━━━━━━━━━━━━━\u001b[0m\u001b[37m\u001b[0m \u001b[1m3s\u001b[0m 24ms/step - accuracy: 0.9529 - loss: 0.1421 - val_accuracy: 0.9376 - val_loss: 0.1883\n",
      "Epoch 55: early stopping\n",
      "Restoring model weights from the end of the best epoch: 48.\n"
     ]
    }
   ],
   "source": [
    "history = model.fit(x_train, y_train, validation_split=0.2, epochs=100, verbose=1, batch_size=128, callbacks=[early_stop])"
   ]
  },
  {
   "cell_type": "code",
   "execution_count": 13,
   "id": "22e5636b-9a62-4aec-baca-ac33bf34e6a2",
   "metadata": {
    "execution": {
     "iopub.execute_input": "2025-07-30T11:45:34.957788Z",
     "iopub.status.busy": "2025-07-30T11:45:34.957232Z",
     "iopub.status.idle": "2025-07-30T11:45:34.961433Z",
     "shell.execute_reply": "2025-07-30T11:45:34.960833Z",
     "shell.execute_reply.started": "2025-07-30T11:45:34.957768Z"
    }
   },
   "outputs": [],
   "source": [
    "val_loss = history.history['val_loss']\n",
    "val_accuracy = history.history['val_accuracy']\n",
    "loss = history.history['loss']\n",
    "accuracy = history.history['accuracy']"
   ]
  },
  {
   "cell_type": "code",
   "execution_count": 25,
   "id": "8aea9ec8-d894-438d-bf86-e4a5b577316e",
   "metadata": {
    "execution": {
     "iopub.execute_input": "2025-07-30T12:02:12.908076Z",
     "iopub.status.busy": "2025-07-30T12:02:12.907835Z",
     "iopub.status.idle": "2025-07-30T12:02:13.053778Z",
     "shell.execute_reply": "2025-07-30T12:02:13.053016Z",
     "shell.execute_reply.started": "2025-07-30T12:02:12.908061Z"
    }
   },
   "outputs": [
    {
     "data": {
      "image/png": "[encoded data removed]",
      "text/plain": [
       "<Figure size 640x480 with 1 Axes>"
      ]
     },
     "metadata": {},
     "output_type": "display_data"
    }
   ],
   "source": [
    "plt.plot(range(1, len(val_loss)+1), val_loss, label='val_loss')\n",
    "plt.plot(range(1, len(loss)+1), loss, label='loss')\n",
    "plt.legend()\n",
    "plt.xlabel('epochs')\n",
    "plt.ylabel('loss')\n",
    "plt.show()"
   ]
  },
  {
   "cell_type": "code",
   "execution_count": 22,
   "id": "632fad08-e3c7-458f-a05c-240082695a09",
   "metadata": {
    "execution": {
     "iopub.execute_input": "2025-07-30T12:01:12.632199Z",
     "iopub.status.busy": "2025-07-30T12:01:12.631957Z",
     "iopub.status.idle": "2025-07-30T12:01:15.249842Z",
     "shell.execute_reply": "2025-07-30T12:01:15.249188Z",
     "shell.execute_reply.started": "2025-07-30T12:01:12.632183Z"
    }
   },
   "outputs": [
    {
     "name": "stdout",
     "output_type": "stream",
     "text": [
      "\u001b[1m173/173\u001b[0m \u001b[32m━━━━━━━━━━━━━━━━━━━━\u001b[0m\u001b[37m\u001b[0m \u001b[1m2s\u001b[0m 7ms/step - accuracy: 0.9542 - loss: 0.1500\n"
     ]
    },
    {
     "data": {
      "text/plain": [
       "[0.15505440533161163, 0.9515602588653564]"
      ]
     },
     "execution_count": 22,
     "metadata": {},
     "output_type": "execute_result"
    }
   ],
   "source": [
    "model.evaluate(x_test, y_test)"
   ]
  },
  {
   "cell_type": "code",
   "execution_count": 23,
   "id": "e993c57b-9539-4f2c-8ba4-339135be43ee",
   "metadata": {
    "execution": {
     "iopub.execute_input": "2025-07-30T12:01:20.724629Z",
     "iopub.status.busy": "2025-07-30T12:01:20.724296Z",
     "iopub.status.idle": "2025-07-30T12:01:22.882024Z",
     "shell.execute_reply": "2025-07-30T12:01:22.881207Z",
     "shell.execute_reply.started": "2025-07-30T12:01:20.724605Z"
    }
   },
   "outputs": [
    {
     "name": "stdout",
     "output_type": "stream",
     "text": [
      "\u001b[1m173/173\u001b[0m \u001b[32m━━━━━━━━━━━━━━━━━━━━\u001b[0m\u001b[37m\u001b[0m \u001b[1m1s\u001b[0m 5ms/step\n"
     ]
    }
   ],
   "source": [
    "prob = model.predict(x_test)\n",
    "y_pred = [int(p[0]>=0.5) for p in prob]"
   ]
  },
  {
   "cell_type": "code",
   "execution_count": 24,
   "id": "7afd4c86-1254-406a-b079-0b10cb04d256",
   "metadata": {
    "execution": {
     "iopub.execute_input": "2025-07-30T12:01:24.416746Z",
     "iopub.status.busy": "2025-07-30T12:01:24.416449Z",
     "iopub.status.idle": "2025-07-30T12:01:24.431226Z",
     "shell.execute_reply": "2025-07-30T12:01:24.430441Z",
     "shell.execute_reply.started": "2025-07-30T12:01:24.416726Z"
    }
   },
   "outputs": [
    {
     "name": "stdout",
     "output_type": "stream",
     "text": [
      "              precision    recall  f1-score   support\n",
      "\n",
      "           0       0.96      0.94      0.95      2764\n",
      "           1       0.94      0.96      0.95      2748\n",
      "\n",
      "    accuracy                           0.95      5512\n",
      "   macro avg       0.95      0.95      0.95      5512\n",
      "weighted avg       0.95      0.95      0.95      5512\n",
      "\n"
     ]
    }
   ],
   "source": [
    "from sklearn.metrics import classification_report\n",
    "print(classification_report(y_pred, y_test))"
   ]
  },
  {
   "cell_type": "code",
   "execution_count": 26,
   "id": "7ec5f4a8-02ec-45a7-a81f-f0bd7df9a4d2",
   "metadata": {
    "execution": {
     "iopub.execute_input": "2025-07-30T12:04:29.235645Z",
     "iopub.status.busy": "2025-07-30T12:04:29.235084Z",
     "iopub.status.idle": "2025-07-30T12:04:29.286073Z",
     "shell.execute_reply": "2025-07-30T12:04:29.285263Z",
     "shell.execute_reply.started": "2025-07-30T12:04:29.235620Z"
    }
   },
   "outputs": [
    {
     "name": "stderr",
     "output_type": "stream",
     "text": [
      "/usr/local/lib/python3.11/dist-packages/keras/src/layers/convolutional/base_conv.py:107: UserWarning: Do not pass an `input_shape`/`input_dim` argument to a layer. When using Sequential models, prefer using an `Input(shape)` object as the first layer in the model instead.\n",
      "  super().__init__(activity_regularizer=activity_regularizer, **kwargs)\n"
     ]
    }
   ],
   "source": [
    "model = Sequential(\n",
    "    [\n",
    "        Conv2D(input_shape=(60, 60, 3), filters=32, kernel_size=(3, 3), activation='relu'),\n",
    "        MaxPooling2D(),\n",
    "        Conv2D(filters=64, kernel_size=(3, 3), activation='relu'),\n",
    "        Conv2D(filters=124, kernel_size=(3, 3), activation='relu'),\n",
    "        Flatten(),\n",
    "        Dense(64, activation='relu'),\n",
    "        Dense(32, activation='relu'),\n",
    "        Dense(1, activation='sigmoid')\n",
    "    ]\n",
    "    \n",
    ")"
   ]
  },
  {
   "cell_type": "code",
   "execution_count": 27,
   "id": "cf7170ba-faf3-4d3b-b928-23c3d230b75f",
   "metadata": {
    "execution": {
     "iopub.execute_input": "2025-07-30T12:07:39.281402Z",
     "iopub.status.busy": "2025-07-30T12:07:39.280815Z",
     "iopub.status.idle": "2025-07-30T12:07:39.292493Z",
     "shell.execute_reply": "2025-07-30T12:07:39.291693Z",
     "shell.execute_reply.started": "2025-07-30T12:07:39.281378Z"
    }
   },
   "outputs": [],
   "source": [
    "model.compile(optimizer='adam', metrics=['accuracy'], loss='binary_crossentropy')"
   ]
  },
  {
   "cell_type": "code",
   "execution_count": 30,
   "id": "4a9fd62b-20b4-4d54-8bdf-bbd2751ca271",
   "metadata": {
    "execution": {
     "iopub.execute_input": "2025-07-30T12:19:39.252811Z",
     "iopub.status.busy": "2025-07-30T12:19:39.252558Z",
     "iopub.status.idle": "2025-07-30T12:20:32.300611Z",
     "shell.execute_reply": "2025-07-30T12:20:32.299851Z",
     "shell.execute_reply.started": "2025-07-30T12:19:39.252793Z"
    }
   },
   "outputs": [
    {
     "name": "stdout",
     "output_type": "stream",
     "text": [
      "Epoch 1/100\n",
      "\u001b[1m138/138\u001b[0m \u001b[32m━━━━━━━━━━━━━━━━━━━━\u001b[0m\u001b[37m\u001b[0m \u001b[1m10s\u001b[0m 43ms/step - accuracy: 0.5704 - loss: 0.6795 - val_accuracy: 0.7873 - val_loss: 0.5208\n",
      "Epoch 2/100\n",
      "\u001b[1m138/138\u001b[0m \u001b[32m━━━━━━━━━━━━━━━━━━━━\u001b[0m\u001b[37m\u001b[0m \u001b[1m3s\u001b[0m 24ms/step - accuracy: 0.8659 - loss: 0.3463 - val_accuracy: 0.9095 - val_loss: 0.2382\n",
      "Epoch 3/100\n",
      "\u001b[1m138/138\u001b[0m \u001b[32m━━━━━━━━━━━━━━━━━━━━\u001b[0m\u001b[37m\u001b[0m \u001b[1m3s\u001b[0m 24ms/step - accuracy: 0.9243 - loss: 0.2064 - val_accuracy: 0.9356 - val_loss: 0.1781\n",
      "Epoch 4/100\n",
      "\u001b[1m138/138\u001b[0m \u001b[32m━━━━━━━━━━━━━━━━━━━━\u001b[0m\u001b[37m\u001b[0m \u001b[1m3s\u001b[0m 24ms/step - accuracy: 0.9438 - loss: 0.1657 - val_accuracy: 0.9385 - val_loss: 0.1708\n",
      "Epoch 5/100\n",
      "\u001b[1m138/138\u001b[0m \u001b[32m━━━━━━━━━━━━━━━━━━━━\u001b[0m\u001b[37m\u001b[0m \u001b[1m3s\u001b[0m 25ms/step - accuracy: 0.9475 - loss: 0.1466 - val_accuracy: 0.9472 - val_loss: 0.1664\n",
      "Epoch 6/100\n",
      "\u001b[1m138/138\u001b[0m \u001b[32m━━━━━━━━━━━━━━━━━━━━\u001b[0m\u001b[37m\u001b[0m \u001b[1m3s\u001b[0m 25ms/step - accuracy: 0.9599 - loss: 0.1147 - val_accuracy: 0.9490 - val_loss: 0.1529\n",
      "Epoch 7/100\n",
      "\u001b[1m138/138\u001b[0m \u001b[32m━━━━━━━━━━━━━━━━━━━━\u001b[0m\u001b[37m\u001b[0m \u001b[1m3s\u001b[0m 25ms/step - accuracy: 0.9695 - loss: 0.0901 - val_accuracy: 0.9483 - val_loss: 0.1653\n",
      "Epoch 8/100\n",
      "\u001b[1m138/138\u001b[0m \u001b[32m━━━━━━━━━━━━━━━━━━━━\u001b[0m\u001b[37m\u001b[0m \u001b[1m3s\u001b[0m 25ms/step - accuracy: 0.9788 - loss: 0.0620 - val_accuracy: 0.9469 - val_loss: 0.1793\n",
      "Epoch 9/100\n",
      "\u001b[1m138/138\u001b[0m \u001b[32m━━━━━━━━━━━━━━━━━━━━\u001b[0m\u001b[37m\u001b[0m \u001b[1m3s\u001b[0m 24ms/step - accuracy: 0.9810 - loss: 0.0516 - val_accuracy: 0.9431 - val_loss: 0.2501\n",
      "Epoch 10/100\n",
      "\u001b[1m138/138\u001b[0m \u001b[32m━━━━━━━━━━━━━━━━━━━━\u001b[0m\u001b[37m\u001b[0m \u001b[1m3s\u001b[0m 24ms/step - accuracy: 0.9908 - loss: 0.0300 - val_accuracy: 0.9458 - val_loss: 0.2409\n",
      "Epoch 11/100\n",
      "\u001b[1m138/138\u001b[0m \u001b[32m━━━━━━━━━━━━━━━━━━━━\u001b[0m\u001b[37m\u001b[0m \u001b[1m3s\u001b[0m 24ms/step - accuracy: 0.9917 - loss: 0.0239 - val_accuracy: 0.9351 - val_loss: 0.2795\n",
      "Epoch 12/100\n",
      "\u001b[1m138/138\u001b[0m \u001b[32m━━━━━━━━━━━━━━━━━━━━\u001b[0m\u001b[37m\u001b[0m \u001b[1m3s\u001b[0m 24ms/step - accuracy: 0.9930 - loss: 0.0212 - val_accuracy: 0.9458 - val_loss: 0.3282\n",
      "Epoch 13/100\n",
      "\u001b[1m138/138\u001b[0m \u001b[32m━━━━━━━━━━━━━━━━━━━━\u001b[0m\u001b[37m\u001b[0m \u001b[1m3s\u001b[0m 24ms/step - accuracy: 0.9967 - loss: 0.0107 - val_accuracy: 0.9422 - val_loss: 0.3234\n",
      "Epoch 13: early stopping\n",
      "Restoring model weights from the end of the best epoch: 6.\n"
     ]
    }
   ],
   "source": [
    "history = model.fit(x_train, y_train, validation_split=0.2, callbacks=[early_stop], batch_size=128, epochs=100, verbose=1)"
   ]
  },
  {
   "cell_type": "code",
   "execution_count": 32,
   "id": "ca7f4ad7-7650-42ed-aaad-023d0b255c24",
   "metadata": {
    "execution": {
     "iopub.execute_input": "2025-07-30T12:22:27.817354Z",
     "iopub.status.busy": "2025-07-30T12:22:27.816867Z",
     "iopub.status.idle": "2025-07-30T12:22:27.821512Z",
     "shell.execute_reply": "2025-07-30T12:22:27.820722Z",
     "shell.execute_reply.started": "2025-07-30T12:22:27.817333Z"
    }
   },
   "outputs": [],
   "source": [
    "val_loss = history.history['val_loss']\n",
    "val_accuracy = history.history['val_accuracy']\n",
    "loss = history.history['loss']\n",
    "accuracy = history.history['accuracy']"
   ]
  },
  {
   "cell_type": "code",
   "execution_count": 33,
   "id": "488a89df-310a-4d34-bd2a-89721bc0f921",
   "metadata": {
    "execution": {
     "iopub.execute_input": "2025-07-30T12:22:28.177010Z",
     "iopub.status.busy": "2025-07-30T12:22:28.176736Z",
     "iopub.status.idle": "2025-07-30T12:22:28.323291Z",
     "shell.execute_reply": "2025-07-30T12:22:28.322575Z",
     "shell.execute_reply.started": "2025-07-30T12:22:28.176990Z"
    }
   },
   "outputs": [
    {
     "data": {
      "image/png": "[encoded data removed]",
      "text/plain": [
       "<Figure size 640x480 with 1 Axes>"
      ]
     },
     "metadata": {},
     "output_type": "display_data"
    }
   ],
   "source": [
    "plt.plot(range(1, len(val_loss)+1), val_loss, label='val_loss')\n",
    "plt.plot(range(1, len(loss)+1), loss, label='loss')\n",
    "plt.legend()\n",
    "plt.xlabel('epochs')\n",
    "plt.ylabel('loss')\n",
    "plt.show()"
   ]
  },
  {
   "cell_type": "code",
   "execution_count": 42,
   "id": "9363e13d-3286-4bc7-829e-9d74243a3cee",
   "metadata": {
    "execution": {
     "iopub.execute_input": "2025-07-30T12:37:46.900981Z",
     "iopub.status.busy": "2025-07-30T12:37:46.900733Z",
     "iopub.status.idle": "2025-07-30T12:37:47.021467Z",
     "shell.execute_reply": "2025-07-30T12:37:47.020740Z",
     "shell.execute_reply.started": "2025-07-30T12:37:46.900965Z"
    }
   },
   "outputs": [
    {
     "data": {
      "image/png": "[encoded data removed]",
      "text/plain": [
       "<Figure size 640x480 with 1 Axes>"
      ]
     },
     "metadata": {},
     "output_type": "display_data"
    }
   ],
   "source": [
    "plt.imshow(x_train[10])\n",
    "plt.show()"
   ]
  },
  {
   "cell_type": "code",
   "execution_count": 43,
   "id": "d730e6d5-28ef-4e11-bd0d-13499fc28e1e",
   "metadata": {
    "execution": {
     "iopub.execute_input": "2025-07-30T13:11:50.625445Z",
     "iopub.status.busy": "2025-07-30T13:11:50.625154Z",
     "iopub.status.idle": "2025-07-30T13:11:50.962833Z",
     "shell.execute_reply": "2025-07-30T13:11:50.961938Z",
     "shell.execute_reply.started": "2025-07-30T13:11:50.625424Z"
    }
   },
   "outputs": [],
   "source": [
    "import pickle\n",
    "with open('history.pkl', 'wb') as f:\n",
    "    pickle.dump(model, f)"
   ]
  }
 ],
 "metadata": {
  "kaggle": {
   "accelerator": "nvidiaTeslaT4",
   "dataSources": [
    {
     "datasetId": 7974307,
     "sourceId": 12621366,
     "sourceType": "datasetVersion"
    }
   ],
   "dockerImageVersionId": 31089,
   "isGpuEnabled": true,
   "isInternetEnabled": false,
   "language": "python",
   "sourceType": "notebook"
  },
  "kernelspec": {
   "display_name": "Python 3 (ipykernel)",
   "language": "python",
   "name": "python3"
  },
  "language_info": {
   "codemirror_mode": {
    "name": "ipython",
    "version": 3
   },
   "file_extension": ".py",
   "mimetype": "text/x-python",
   "name": "python",
   "nbconvert_exporter": "python",
   "pygments_lexer": "ipython3",
   "version": "3.11.7"
  },
  "widgets": {
   "application/vnd.jupyter.widget-state+json": {
    "state": {},
    "version_major": 2,
    "version_minor": 0
   }
  }
 },
 "nbformat": 4,
 "nbformat_minor": 5
}
